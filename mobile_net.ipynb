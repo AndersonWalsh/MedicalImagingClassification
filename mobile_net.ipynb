{
 "cells": [
  {
   "cell_type": "code",
   "execution_count": null,
   "metadata": {},
   "outputs": [],
   "source": [
    "import medmnist\n",
    "from medmnist import INFO, Evaluator\n",
    "import tensorflow as tf\n",
    "from tensorflow.keras.utils import to_categorical\n",
    "import numpy as np\n",
    "import sys\n",
    "\n",
    "gpus = tf.config.experimental.list_physical_devices('GPU')\n",
    "if gpus:\n",
    "    for gpu in gpus:\n",
    "        tf.config.experimental.set_memory_growth(gpu, True)\n",
    "data_flag = 'chestmnist' \n",
    "info = INFO[data_flag]\n",
    "task = info['task']\n",
    "n_channels = info['n_channels']\n",
    "n_classes = len(info['label'])\n",
    "\n",
    "img_size = 28\n",
    "\n",
    "DataClass = getattr(medmnist, info['python_class'])\n",
    "train_data = DataClass(split='train', download=True, size=img_size)\n",
    "test_data = DataClass(split='test', download=True, size=img_size)\n",
    "val_data = DataClass(split='val', download=True, size=img_size)\n",
    "\n",
    "X_train, y_train = train_data.imgs, train_data.labels\n",
    "X_val, y_val = val_data.imgs, val_data.labels\n",
    "X_test, y_test = test_data.imgs, test_data.labels\n",
    "\n",
    "from tensorflow.keras.mixed_precision import set_global_policy\n",
    "\n",
    "# Set the mixed precision policy to 'mixed_float16'\n",
    "set_global_policy('mixed_float16')\n",
    "\n",
    "X_train = X_train.astype('float32')\n",
    "X_val = X_val.astype('float32')\n",
    "X_test = X_test.astype('float32')"
   ]
  },
  {
   "cell_type": "code",
   "execution_count": null,
   "metadata": {},
   "outputs": [],
   "source": [
    "X_train = tf.expand_dims(X_train, axis=-1)  # Adds channel dimension at the end\n",
    "X_val = tf.expand_dims(X_val, axis=-1)\n",
    "X_test = tf.expand_dims(X_test, axis=-1)"
   ]
  },
  {
   "cell_type": "code",
   "execution_count": null,
   "metadata": {},
   "outputs": [],
   "source": [
    "\n",
    "# Convert one-hot encoded labels to class indices\n",
    "y_train = np.argmax(y_train, axis=1)\n",
    "y_val = np.argmax(y_val, axis=1)\n",
    "y_test = np.argmax(y_test, axis=1)"
   ]
  },
  {
   "cell_type": "code",
   "execution_count": null,
   "metadata": {},
   "outputs": [],
   "source": [
    "# Convert all classes to 1 or 0\n",
    "def convert2Binary(npArr):\n",
    "    for i in range(len(npArr)):\n",
    "        if(npArr[i] != 0):\n",
    "            npArr[i] = 1\n",
    "    return npArr\n",
    "y_train = convert2Binary(y_train)\n",
    "y_val = convert2Binary(y_val)\n",
    "y_test = convert2Binary(y_test)"
   ]
  },
  {
   "cell_type": "code",
   "execution_count": null,
   "metadata": {},
   "outputs": [],
   "source": [
    "from keras.applications import MobileNet\n",
    "from tensorflow.keras.models import Model\n",
    "from tensorflow.keras.layers import GlobalAveragePooling2D\n",
    "\n",
    "def preprocess_images(images):\n",
    "    images_resized = tf.image.resize(images, (32, 32))\n",
    "    return images_resized\n",
    "\n",
    "X_train_rgb = tf.image.grayscale_to_rgb(X_train)\n",
    "X_test_rgb = tf.image.grayscale_to_rgb(X_test)\n",
    "\n",
    "X_train_resized = preprocess_images(X_train_rgb)\n",
    "X_test_resized = preprocess_images(X_test_rgb)\n",
    "\n",
    "\n",
    "\n",
    "base_model = MobileNet(weights='imagenet', include_top=False, input_shape=(32, 32, 3))\n",
    "output = GlobalAveragePooling2D()(base_model.output)  # Reduce to 1D embeddings\n",
    "feature_extractor = Model(inputs=base_model.input, outputs=output)"
   ]
  },
  {
   "cell_type": "code",
   "execution_count": null,
   "metadata": {},
   "outputs": [],
   "source": [
    "def extract_features(feature_extractor, images, batch_size=32):\n",
    "    \"\"\"\n",
    "    Extract features from a dataset using the feature extractor.\n",
    "\n",
    "    Args:\n",
    "        feature_extractor: Pretrained MobileNet-based feature extractor.\n",
    "        images: Dataset as a NumPy array (preprocessed and resized).\n",
    "        batch_size: Number of samples per batch.\n",
    "\n",
    "    Returns:\n",
    "        Extracted features as a NumPy array.\n",
    "    \"\"\"\n",
    "    num_samples = images.shape[0]\n",
    "    features = []\n",
    "\n",
    "    for start in range(0, num_samples, batch_size):\n",
    "        end = start + batch_size\n",
    "        batch = images[start:end]\n",
    "        batch_features = feature_extractor.predict(batch)\n",
    "        features.append(batch_features)\n",
    "\n",
    "    return np.concatenate(features, axis=0)\n",
    "\n",
    "train_features = extract_features(feature_extractor, X_train_resized, batch_size=32)\n",
    "test_features = extract_features(feature_extractor, X_test_resized, batch_size=32)"
   ]
  },
  {
   "cell_type": "code",
   "execution_count": null,
   "metadata": {},
   "outputs": [],
   "source": [
    "print(f\"Train features shape: {train_features.shape}, Train labels shape: {y_train.shape}\")\n",
    "print(f\"Test features shape: {test_features.shape}, Test labels shape: {y_test.shape}\")\n"
   ]
  },
  {
   "cell_type": "code",
   "execution_count": null,
   "metadata": {},
   "outputs": [],
   "source": [
    "\n",
    "from sklearn.ensemble import RandomForestClassifier\n",
    "from sklearn.model_selection import train_test_split\n",
    "from sklearn.metrics import accuracy_score\n",
    "\n",
    "X_train, X_val, y_train, y_val = train_test_split(train_features, y_train, test_size=0.2, random_state=42)\n",
    "\n",
    "rf_model = RandomForestClassifier(n_estimators=100, random_state=42)\n",
    "rf_model.fit(X_train, y_train)\n",
    "\n",
    "y_pred = rf_model.predict(X_train)\n",
    "print(f\"Validation Accuracy: {accuracy_score(y_train, y_pred):.4f}\")"
   ]
  },
  {
   "cell_type": "code",
   "execution_count": null,
   "metadata": {},
   "outputs": [],
   "source": [
    "X_test, X_val, y_test, y_val = train_test_split(test_features, y_test, test_size=0.2, random_state=42)\n",
    "y_pred = rf_model.predict(X_test)\n",
    "print(f\"Validation Accuracy: {accuracy_score(y_test, y_pred):.4f}\")"
   ]
  }
 ],
 "metadata": {
  "kernelspec": {
   "display_name": "nlp",
   "language": "python",
   "name": "python3"
  },
  "language_info": {
   "codemirror_mode": {
    "name": "ipython",
    "version": 3
   },
   "file_extension": ".py",
   "mimetype": "text/x-python",
   "name": "python",
   "nbconvert_exporter": "python",
   "pygments_lexer": "ipython3",
   "version": "3.10.12"
  }
 },
 "nbformat": 4,
 "nbformat_minor": 2
}
